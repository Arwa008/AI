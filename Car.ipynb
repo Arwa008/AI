{
  "nbformat": 4,
  "nbformat_minor": 0,
  "metadata": {
    "colab": {
      "provenance": [],
      "toc_visible": true,
      "authorship_tag": "ABX9TyPRUT+1JPoLPocByQRmdkxE",
      "include_colab_link": true
    },
    "kernelspec": {
      "name": "python3",
      "display_name": "Python 3"
    },
    "language_info": {
      "name": "python"
    }
  },
  "cells": [
    {
      "cell_type": "markdown",
      "metadata": {
        "id": "view-in-github",
        "colab_type": "text"
      },
      "source": [
        "<a href=\"https://colab.research.google.com/github/Arwa008/AI/blob/main/Car.ipynb\" target=\"_parent\"><img src=\"https://colab.research.google.com/assets/colab-badge.svg\" alt=\"Open In Colab\"/></a>"
      ]
    },
    {
      "cell_type": "code",
      "execution_count": null,
      "metadata": {
        "id": "tM1iQqAdjzBc"
      },
      "outputs": [],
      "source": [
        "#Colab edition by Ghassem Tofighi\n",
        "#Download and extract all necessary files\n",
        "!rm -rf /content/*\n",
        "!wget https://github.com/aimacode/aima-python/archive/master.zip 2>/dev/null\n",
        "!unzip -q master.zip\n",
        "!mv aima-python-master/* /content\n",
        "!wget https://github.com/aimacode/aima-data/archive/f6cbea61ad0c21c6b7be826d17af5a8d3a7c2c86.zip 2>/dev/null\n",
        "!unzip -q f6cbea61ad0c21c6b7be826d17af5a8d3a7c2c86.zip\n",
        "!rm -rf aima-data\n",
        "!mv aima-data-f6cbea61ad0c21c6b7be826d17af5a8d3a7c2c86 aima-data\n",
        "#Install Libraries\n",
        "!pip install ipythonblocks 2>/dev/null"
      ]
    },
    {
      "cell_type": "code",
      "source": [
        "from agents import *\n",
        "class Parcels(Thing):\n",
        "    pass\n",
        "class Park2D(XYEnvironment):\n",
        "    def percept(self, agent):\n",
        "        '''return a list of things that are in our agent's location'''\n",
        "        things = self.list_things_at(agent.location)\n",
        "        return things\n",
        "    def execute_action(self, agent, action):\n",
        "        '''changes the state of the environment based on what the agent does.'''\n",
        "        if action == 'turnright':\n",
        "            print('{} decided to {} at location: {}'.format(str(agent)[1:-1], action, agent.location))\n",
        "            agent.turn(Direction.R)\n",
        "        elif action == 'turnleft':\n",
        "            print('{} decided to {} at location: {}'.format(str(agent)[1:-1], action, agent.location))\n",
        "            agent.turn(Direction.L)\n",
        "        elif action == 'moveforward':\n",
        "            loc = copy.deepcopy(agent.location) # find out the target location\n",
        "            if agent.direction.direction == Direction.R:\n",
        "                loc[0] += 1\n",
        "            elif agent.direction.direction == Direction.L:\n",
        "                loc[0] -= 1\n",
        "            elif agent.direction.direction == Direction.D:\n",
        "                loc[1] += 1\n",
        "            elif agent.direction.direction == Direction.U:\n",
        "                loc[1] -= 1\n",
        "            if self.is_inbounds(loc):# move only if the target is a valid location\n",
        "                print('{} decided to move {}wards at location: {}'.format(str(agent)[1:-1], agent.direction.direction, agent.location))\n",
        "                agent.moveforward()\n",
        "            else:\n",
        "                print('{} decided to move {}wards at location: {}, but couldn\\'t'.format(str(agent)[1:-1], agent.direction.direction,                                                                            agent.location))\n",
        "                agent.moveforward(False)\n",
        "        elif action == \"collect\":\n",
        "            items = self.list_things_at(agent.location, tclass=Parcels)\n",
        "            if len(items) != 0:\n",
        "                if agent.collect(items[0]):\n",
        "                    print('{} gethered {} at location: {}'\n",
        "                          .format(str(agent)[1:-1], str(items[0])[1:-1], agent.location))\n",
        "                    self.delete_thing(items[0])\n",
        "    def is_done(self):\n",
        "        no_edibles = not any(isinstance(thing, Parcels) for thing in self.things)\n",
        "        dead_agents = not any(agent.is_alive() for agent in self.agents)\n",
        "        return dead_agents or no_edibles\n"
      ],
      "metadata": {
        "id": "y9j3NwNCc3RJ"
      },
      "execution_count": null,
      "outputs": []
    },
    {
      "cell_type": "code",
      "source": [
        "from random import choice\n",
        "turn = False\n",
        "class EnergeticCar(Agent):\n",
        "    location = [0,1]\n",
        "    direction = Direction(\"down\")\n",
        "    def moveforward(self, success=True):\n",
        "        global turn\n",
        "        if not success:\n",
        "            turn = True # if edge has been reached, remember to turn\n",
        "            return\n",
        "        if self.direction.direction == Direction.R:\n",
        "            self.location[0] += 1\n",
        "        elif self.direction.direction == Direction.L:\n",
        "            self.location[0] -= 1\n",
        "        elif self.direction.direction == Direction.D:\n",
        "            self.location[1] += 1\n",
        "        elif self.direction.direction == Direction.U:\n",
        "            self.location[1] -= 1\n",
        "    def turn(self, d):\n",
        "        self.direction = self.direction + d\n",
        "    def collect(self, thing):\n",
        "        '''returns True upon success or False otherwise'''\n",
        "        if isinstance(thing, Parcels):\n",
        "            return True\n",
        "        return False\n",
        "def program(percepts):\n",
        "    '''Returns an action based on it's percepts'''\n",
        "    global turn\n",
        "    for p in percepts:\n",
        "        if isinstance(p, Parcels):\n",
        "            return 'collect'\n",
        "    if turn: # then recall if you were at an edge and had to turn\n",
        "        turn = False\n",
        "        choice = random.choice((1,2));\n",
        "    else:\n",
        "        choice = random.choice((1,2,3,4)) # 1-right, 2-left, others-forward\n",
        "    if choice == 1:\n",
        "        return 'turnright'\n",
        "    elif choice == 2:\n",
        "        return 'turnleft'\n",
        "    else:\n",
        "        return 'moveforward'\n",
        ""
      ],
      "metadata": {
        "id": "0KgLQRYovfbR"
      },
      "execution_count": null,
      "outputs": []
    },
    {
      "cell_type": "code",
      "source": [
        "CarEnivronment = Park2D(3,3)\n",
        "car = EnergeticCar(program)\n",
        "parcels = Parcels()\n",
        "CarEnivronment.add_thing(car, [0,1])\n",
        "CarEnivronment.add_thing(parcels, [1,2])\n",
        "parcel2 = Parcels()\n",
        "CarEnivronment.add_thing(parcel2, [1,1])\n",
        "parcel3 = Parcels()\n",
        "CarEnivronment.add_thing(parcel3, [2,2])\n",
        "print(\"Car started at [0,1], facing down. Let's see if he found any parcels!\")\n",
        "CarEnivronment.run(20)"
      ],
      "metadata": {
        "colab": {
          "base_uri": "https://localhost:8080/"
        },
        "id": "ctKX1yCU8HN5",
        "outputId": "9a4c4b5c-517f-416a-e592-94fcb2e358a4"
      },
      "execution_count": null,
      "outputs": [
        {
          "output_type": "stream",
          "name": "stdout",
          "text": [
            "Car started at [0,1], facing down. Let's see if he found any parcels!\n",
            "EnergeticCar decided to turnright at location: [0, 1]\n",
            "EnergeticCar decided to turnright at location: [0, 1]\n",
            "EnergeticCar decided to turnright at location: [0, 1]\n",
            "EnergeticCar decided to move rightwards at location: [0, 1]\n",
            "EnergeticCar gethered Parcels at location: [1, 1]\n",
            "EnergeticCar decided to turnright at location: [1, 1]\n",
            "EnergeticCar decided to move downwards at location: [1, 1]\n",
            "EnergeticCar gethered Parcels at location: [1, 2]\n",
            "EnergeticCar decided to turnleft at location: [1, 2]\n",
            "EnergeticCar decided to move rightwards at location: [1, 2]\n",
            "EnergeticCar gethered Parcels at location: [2, 2]\n"
          ]
        }
      ]
    }
  ]
}